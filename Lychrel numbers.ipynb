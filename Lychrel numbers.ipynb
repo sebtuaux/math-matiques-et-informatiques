{
 "cells": [
  {
   "cell_type": "code",
   "execution_count": 102,
   "metadata": {
    "collapsed": true
   },
   "outputs": [],
   "source": [
    "def is_palindromic(n):\n",
    "    ''' int -> bool\n",
    "    retourne \"True\" si \"n\" est un \"nombre palindromique\", sinon \"False\" '''\n",
    "    \n",
    "    chaine = str(n)\n",
    "    milieu = len(chaine)//2\n",
    "    for i in range(milieu):\n",
    "        if chaine[i] != chaine[-i-1]:\n",
    "            return False\n",
    "    return True"
   ]
  },
  {
   "cell_type": "code",
   "execution_count": 103,
   "metadata": {
    "collapsed": true
   },
   "outputs": [],
   "source": [
    "def inverse(n):\n",
    "    ''' int -> int\n",
    "    retourne l'inverse de \"n\", en inversant l'ordre de ses chiffres. '''\n",
    "    \n",
    "    chaine1 = str(n)\n",
    "    chaine2 = ''\n",
    "    taille = len(chaine1)\n",
    "    for i in range(-1,-1-taille,-1):\n",
    "        chaine2 += chaine1[i]\n",
    "    return int(chaine2)"
   ]
  },
  {
   "cell_type": "code",
   "execution_count": 104,
   "metadata": {
    "collapsed": true
   },
   "outputs": [],
   "source": [
    "def is_lychrel(n):\n",
    "    ''' int -> bool\n",
    "    retourne \"True\" si \"n\" est un nombre de \"lychrel\", sinon \"False\" '''\n",
    "    \n",
    "    nb_it = 0\n",
    "    while nb_it<50:\n",
    "        n += inverse(n)\n",
    "        nb_it+=1\n",
    "        if is_palindromic(n):\n",
    "            return False\n",
    "    return True"
   ]
  },
  {
   "cell_type": "code",
   "execution_count": 105,
   "metadata": {
    "collapsed": true
   },
   "outputs": [],
   "source": [
    "def nb_lychrel(N):\n",
    "    ''' int -> int\n",
    "    retourne la quantité de nombre de \"lychrel\" en-dessous de \"N\" '''\n",
    "    \n",
    "    nb_lych = 0\n",
    "    for nombre in range(N):\n",
    "        if is_lychrel(nombre):\n",
    "            nb_lych += 1\n",
    "    return nb_lych"
   ]
  },
  {
   "cell_type": "code",
   "execution_count": 106,
   "metadata": {},
   "outputs": [
    {
     "data": {
      "text/plain": [
       "249"
      ]
     },
     "execution_count": 106,
     "metadata": {},
     "output_type": "execute_result"
    }
   ],
   "source": [
    "nb_lychrel(10000)"
   ]
  },
  {
   "cell_type": "code",
   "execution_count": null,
   "metadata": {
    "collapsed": true
   },
   "outputs": [],
   "source": []
  }
 ],
 "metadata": {
  "kernelspec": {
   "display_name": "Python 3",
   "language": "python",
   "name": "python3"
  },
  "language_info": {
   "codemirror_mode": {
    "name": "ipython",
    "version": 3
   },
   "file_extension": ".py",
   "mimetype": "text/x-python",
   "name": "python",
   "nbconvert_exporter": "python",
   "pygments_lexer": "ipython3",
   "version": "3.6.2"
  }
 },
 "nbformat": 4,
 "nbformat_minor": 2
}
