{
 "cells": [
  {
   "cell_type": "markdown",
   "metadata": {},
   "source": [
    "Ecrire un algorithme puis un programme permettant de calculer la factorielle d'un nombre *n* saisi par l'utilisateur.\n",
    "\n",
    "On pourra créer une fonction nommée *factorielle(n)* qui renvoie le résultat du calcul de la factorielle de *n*."
   ]
  },
  {
   "cell_type": "code",
   "execution_count": 15,
   "metadata": {
    "collapsed": true
   },
   "outputs": [],
   "source": [
    "def factorielle(n):\n",
    "    ''' int -> int\n",
    "    retourne le résultat du calcul de la factorielle de \"n\"\n",
    "    hyp : n>=0'''\n",
    "    \n",
    "    if n>=1:\n",
    "        return n*factorielle(n-1)\n",
    "    return 1"
   ]
  },
  {
   "cell_type": "code",
   "execution_count": 16,
   "metadata": {},
   "outputs": [
    {
     "data": {
      "text/plain": [
       "120"
      ]
     },
     "execution_count": 16,
     "metadata": {},
     "output_type": "execute_result"
    }
   ],
   "source": [
    "# Calculons factorielle(5), c'est le nombre de combinaisons possibles de placements de 5 convives autour d'une table.\n",
    "\n",
    "factorielle(5)"
   ]
  },
  {
   "attachments": {},
   "cell_type": "markdown",
   "metadata": {},
   "source": [
    "Ecrire un programme permettant de calculer le nombre de combinaisons possibles de *p* parmi *n*."
   ]
  },
  {
   "cell_type": "code",
   "execution_count": 24,
   "metadata": {
    "collapsed": true
   },
   "outputs": [],
   "source": [
    "def combinaison(p,n):\n",
    "    '''int * int -> int\n",
    "    retourne le nombre de combinaisons de \"p\" parmi \"n\" \n",
    "    hyp : 0 <= p <= n '''\n",
    "    \n",
    "    if 0 < p < n:\n",
    "        return  int( factorielle(n) / factorielle(p) / factorielle(n-p) )\n",
    "    return 1"
   ]
  },
  {
   "cell_type": "code",
   "execution_count": 26,
   "metadata": {},
   "outputs": [
    {
     "data": {
      "text/plain": [
       "1906884"
      ]
     },
     "execution_count": 26,
     "metadata": {},
     "output_type": "execute_result"
    }
   ],
   "source": [
    "# Calculons le nombre de possibilités de '5' numéros parmi '49'.\n",
    "\n",
    "combinaison(5,49)"
   ]
  },
  {
   "cell_type": "code",
   "execution_count": null,
   "metadata": {
    "collapsed": true
   },
   "outputs": [],
   "source": []
  }
 ],
 "metadata": {
  "kernelspec": {
   "display_name": "Python 3",
   "language": "python",
   "name": "python3"
  },
  "language_info": {
   "codemirror_mode": {
    "name": "ipython",
    "version": 3
   },
   "file_extension": ".py",
   "mimetype": "text/x-python",
   "name": "python",
   "nbconvert_exporter": "python",
   "pygments_lexer": "ipython3",
   "version": "3.6.2"
  }
 },
 "nbformat": 4,
 "nbformat_minor": 2
}
