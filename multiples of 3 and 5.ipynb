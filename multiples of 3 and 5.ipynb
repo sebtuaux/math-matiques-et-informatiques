{
 "cells": [
  {
   "cell_type": "code",
   "execution_count": 1,
   "metadata": {},
   "outputs": [
    {
     "name": "stdout",
     "output_type": "stream",
     "text": [
      "333\n"
     ]
    }
   ],
   "source": [
    "def multiple_of_3(n):\n",
    "    '''int -> int\n",
    "    retourne le nombre de multiples de 3 inférieurs ou égals à n'''\n",
    "    \n",
    "    nb =0\n",
    "    for k in range(3,n+1,3):\n",
    "        nb+=1\n",
    "    return nb\n",
    "\n",
    "print(multiple_of_3(1000))"
   ]
  },
  {
   "cell_type": "code",
   "execution_count": 4,
   "metadata": {},
   "outputs": [
    {
     "name": "stdout",
     "output_type": "stream",
     "text": [
      "166833\n"
     ]
    }
   ],
   "source": [
    "def somme_multiple_of_3(n):\n",
    "    '''int -> int\n",
    "    retourne la somme des multiples 3 inférieurs ou égals à n'''\n",
    "    \n",
    "    s = 0\n",
    "    for k in range(3,n+1,3):\n",
    "        s+=k\n",
    "    return s\n",
    "\n",
    "print(somme_multiple_of_3(1000))\n",
    "    "
   ]
  },
  {
   "cell_type": "code",
   "execution_count": 12,
   "metadata": {},
   "outputs": [
    {
     "data": {
      "text/plain": [
       "166833"
      ]
     },
     "execution_count": 12,
     "metadata": {},
     "output_type": "execute_result"
    }
   ],
   "source": [
    "3 *333 * 334 // 2"
   ]
  },
  {
   "cell_type": "code",
   "execution_count": 13,
   "metadata": {},
   "outputs": [
    {
     "name": "stdout",
     "output_type": "stream",
     "text": [
      "67335\n"
     ]
    }
   ],
   "source": [
    "def somme_multiple_5(n):\n",
    "    ''' int -> int\n",
    "    retourne la somme des multiples de 5 inférieurs ou égals à n\n",
    "    à condition qu'il ne soit pas multiple de 3'''\n",
    "    \n",
    "    s = 0\n",
    "    for k in range(5,n+1,5):\n",
    "        if k%3 !=0:\n",
    "            s+=k\n",
    "    return s\n",
    "\n",
    "print(somme_multiple_5(1000))"
   ]
  },
  {
   "cell_type": "code",
   "execution_count": 14,
   "metadata": {},
   "outputs": [
    {
     "data": {
      "text/plain": [
       "234168"
      ]
     },
     "execution_count": 14,
     "metadata": {},
     "output_type": "execute_result"
    }
   ],
   "source": [
    "166833 + 67335"
   ]
  },
  {
   "cell_type": "code",
   "execution_count": 18,
   "metadata": {},
   "outputs": [
    {
     "name": "stdout",
     "output_type": "stream",
     "text": [
      "233168\n"
     ]
    }
   ],
   "source": [
    "def multiple_3_5(n):\n",
    "    '''int -> int\n",
    "    retourne la somme des nombres qui sont multiples de 3 ou 5,\n",
    "    inférieurs ou  égals à n'''\n",
    "    \n",
    "    s = 0\n",
    "    for k in range(3,n+1):\n",
    "        if k%3==0 or k%5==0:\n",
    "            s+=k\n",
    "    return s\n",
    "print(multiple_3_5(999))"
   ]
  }
 ],
 "metadata": {
  "kernelspec": {
   "display_name": "Python 3",
   "language": "python",
   "name": "python3"
  },
  "language_info": {
   "codemirror_mode": {
    "name": "ipython",
    "version": 3
   },
   "file_extension": ".py",
   "mimetype": "text/x-python",
   "name": "python",
   "nbconvert_exporter": "python",
   "pygments_lexer": "ipython3",
   "version": "3.7.3"
  }
 },
 "nbformat": 4,
 "nbformat_minor": 2
}
