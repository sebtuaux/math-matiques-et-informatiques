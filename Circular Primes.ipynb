{
 "cells": [
  {
   "cell_type": "code",
   "execution_count": 28,
   "metadata": {},
   "outputs": [],
   "source": [
    " def est_premier(x):\n",
    "        ''' int -> bool\n",
    "        retourne \"True\" si \"x\" est premier, sinon \"False\" '''\n",
    "        \n",
    "        if x>1:\n",
    "            A=int(pow(x,0.5))\n",
    "            for k in range(2,A+1):\n",
    "                if x%k==0:\n",
    "                    return False\n",
    "            return True\n",
    "        return False"
   ]
  },
  {
   "cell_type": "code",
   "execution_count": 29,
   "metadata": {},
   "outputs": [],
   "source": [
    "def est_Circular_primes(n):\n",
    "    ''' int -> int\n",
    "    retourne \"True\" si \"n\" est \"premier circulaire\", sinon \"False\" '''\n",
    "    \n",
    "    chaine1 = str(n)\n",
    "    taille = len(chaine1)\n",
    "    \n",
    "    for i in range(1,taille):\n",
    "        chaine2 = ''\n",
    "        for j in range(i,i+taille):\n",
    "            chaine2 += chaine1[j%taille]\n",
    "        nombre = int(chaine2)\n",
    "        if not est_premier(nombre):\n",
    "            return False\n",
    "    return True"
   ]
  },
  {
   "cell_type": "code",
   "execution_count": 32,
   "metadata": {},
   "outputs": [],
   "source": [
    "def Circular_primes(n):\n",
    "    ''' int -> int\n",
    "    retourne le nombre de \"nombre premiers circulaires\" en-dessous de \"n\" '''\n",
    "    \n",
    "    nbCirculaire = 0\n",
    "    for nombre in range(2,n):\n",
    "        if est_premier(nombre):\n",
    "            if est_Circular_primes(nombre):\n",
    "                nbCirculaire += 1\n",
    "    return nbCirculaire"
   ]
  },
  {
   "cell_type": "code",
   "execution_count": 35,
   "metadata": {},
   "outputs": [
    {
     "data": {
      "text/plain": [
       "55"
      ]
     },
     "execution_count": 35,
     "metadata": {},
     "output_type": "execute_result"
    }
   ],
   "source": [
    "Circular_primes(1000000)"
   ]
  },
  {
   "cell_type": "markdown",
   "metadata": {},
   "source": [
    "Il y a 55 \"nombre premiers circulaires\" en-dessous de un million."
   ]
  }
 ],
 "metadata": {
  "kernelspec": {
   "display_name": "Python 3",
   "language": "python",
   "name": "python3"
  },
  "language_info": {
   "codemirror_mode": {
    "name": "ipython",
    "version": 3
   },
   "file_extension": ".py",
   "mimetype": "text/x-python",
   "name": "python",
   "nbconvert_exporter": "python",
   "pygments_lexer": "ipython3",
   "version": "3.5.3"
  }
 },
 "nbformat": 4,
 "nbformat_minor": 2
}
