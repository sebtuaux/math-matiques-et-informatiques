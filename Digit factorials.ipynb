{
 "cells": [
  {
   "cell_type": "code",
   "execution_count": 28,
   "metadata": {},
   "outputs": [],
   "source": [
    "def factorielle(n):\n",
    "    ''' int -> int\n",
    "    retourne le résultat du calcul de la factorielle de \"n\"\n",
    "    hyp : n>=0'''\n",
    "    \n",
    "    if n>=1:\n",
    "        return n*factorielle(n-1)\n",
    "    return 1"
   ]
  },
  {
   "cell_type": "code",
   "execution_count": 44,
   "metadata": {},
   "outputs": [
    {
     "data": {
      "text/plain": [
       "362880"
      ]
     },
     "execution_count": 44,
     "metadata": {},
     "output_type": "execute_result"
    }
   ],
   "source": [
    "factorielle(9)"
   ]
  },
  {
   "cell_type": "code",
   "execution_count": 29,
   "metadata": {},
   "outputs": [],
   "source": [
    "def s_chiffre(n):\n",
    "    ''' int -> int\n",
    "    retourne la somme des chiffres de \"n\" '''\n",
    "    \n",
    "    if(n>0):\n",
    "        return(s_chiffre(n//10) + n%10)\n",
    "    return 0"
   ]
  },
  {
   "cell_type": "code",
   "execution_count": 30,
   "metadata": {},
   "outputs": [],
   "source": [
    "def s_facto_chiffre(n):\n",
    "    ''' int -> int\n",
    "    retourne la somme de factorielle des chiffres de \"n\" '''\n",
    "    \n",
    "    if(n>0):\n",
    "        return s_facto_chiffre(n//10) + factorielle(n%10)\n",
    "    return 0"
   ]
  },
  {
   "cell_type": "code",
   "execution_count": 31,
   "metadata": {},
   "outputs": [],
   "source": [
    "def Digit_factorials(n):\n",
    "    ''' int -> int\n",
    "    retourne la somme de tous les nombres qui sont égaux à la somme de la factorielle\n",
    "    de leur chiffres.\n",
    "    hyp : 10 <= nombre <= n'''\n",
    "    \n",
    "    s= 0\n",
    "    for nombre in range(10,n+1):\n",
    "        if s_facto_chiffre(nombre) == nombre:\n",
    "            s += nombre\n",
    "    return s"
   ]
  },
  {
   "cell_type": "code",
   "execution_count": 37,
   "metadata": {},
   "outputs": [
    {
     "data": {
      "text/plain": [
       "40730"
      ]
     },
     "execution_count": 37,
     "metadata": {},
     "output_type": "execute_result"
    }
   ],
   "source": [
    "Digit_factorials(100000)"
   ]
  },
  {
   "cell_type": "markdown",
   "metadata": {},
   "source": [
    "        Soit \"n\", un nombre.\n",
    "    Lorsqu'on prend \"n\" suffisament grand. Le nombre \"n\" est bien plus grand que la somme des factorielles de\n",
    "    ses chiffres.\n",
    "    \n",
    "        Soit \"Cn\" un chiffre avec : 1 <= Cn <= 9\n",
    "    On en déduit que : fact(1) <= fact(Cn) <= fact(9)"
   ]
  }
 ],
 "metadata": {
  "kernelspec": {
   "display_name": "Python 3",
   "language": "python",
   "name": "python3"
  },
  "language_info": {
   "codemirror_mode": {
    "name": "ipython",
    "version": 3
   },
   "file_extension": ".py",
   "mimetype": "text/x-python",
   "name": "python",
   "nbconvert_exporter": "python",
   "pygments_lexer": "ipython3",
   "version": "3.5.3"
  }
 },
 "nbformat": 4,
 "nbformat_minor": 2
}
