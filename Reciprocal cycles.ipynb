{
 "cells": [
  {
   "cell_type": "markdown",
   "metadata": {},
   "source": [
    "# lien utile pour résoudre le problème :\n",
    "https://fr.wikipedia.org/wiki/D%C3%A9veloppement_d%C3%A9cimal_p%C3%A9riodique\n",
    "\n",
    "https://fr.wikipedia.org/wiki/Indicatrice_d%27Euler\n",
    "\n",
    "https://fr.wikipedia.org/wiki/Nombres_premiers_entre_eux"
   ]
  },
  {
   "cell_type": "code",
   "execution_count": 89,
   "metadata": {},
   "outputs": [],
   "source": [
    "def est_copremier(a,b):\n",
    "    ''' int * int -> bool\n",
    "    retourne \"True\" ssi \"a\" et \"b\" sont \"premiers entre eux\" '''\n",
    "    \n",
    "    for d in range(2,b+1):\n",
    "        if a%d == 0 and b%d==0:\n",
    "            return False\n",
    "    return True"
   ]
  },
  {
   "cell_type": "code",
   "execution_count": 90,
   "metadata": {},
   "outputs": [],
   "source": [
    "def phi_euler(n):\n",
    "    ''' int -> int\n",
    "    retourne l'indicatrice d'Euler, c'est-à-dire le nombre d'élément \n",
    "    de l'ensemble des nombres qui sont \"co-premiers\" avec \"n\" '''\n",
    "    \n",
    "    phi = 0\n",
    "    for k in range(1,n+1):\n",
    "        if est_copremier(k,n):\n",
    "            phi += 1\n",
    "    return phi"
   ]
  },
  {
   "cell_type": "code",
   "execution_count": 91,
   "metadata": {},
   "outputs": [],
   "source": [
    "def dividende(b,n):\n",
    "    ''' int * int -> int\n",
    "    retourne \"n\" élevé à une puissance de 10, tel que n >= b'''\n",
    "    \n",
    "    while n < b:\n",
    "        n *= 10\n",
    "    return n"
   ]
  },
  {
   "cell_type": "code",
   "execution_count": 116,
   "metadata": {},
   "outputs": [],
   "source": [
    "def quotient_reste(n,b):\n",
    "    ''' int * int -> int * int\n",
    "    retourne le quotien et le reste de \"n\" par \"b\"\n",
    "    hyp : n >= b'''\n",
    "    \n",
    "    k = 0\n",
    "    while k*b <= n:\n",
    "        k+=1\n",
    "    return ( k-1,n+(1-k)*b )"
   ]
  },
  {
   "cell_type": "code",
   "execution_count": 117,
   "metadata": {},
   "outputs": [
    {
     "data": {
      "text/plain": [
       "(1, 3)"
      ]
     },
     "execution_count": 117,
     "metadata": {},
     "output_type": "execute_result"
    }
   ],
   "source": [
    "quotient_reste(10,7)"
   ]
  },
  {
   "cell_type": "code",
   "execution_count": 124,
   "metadata": {},
   "outputs": [],
   "source": [
    "def division(b):\n",
    "    ''' int * int -> str\n",
    "    retourne le résultat de l'inverse de \"b\" sous forme d'un \"flottant\" '''\n",
    "    \n",
    "    chaine = '0.'\n",
    "    n = 1\n",
    "    r = 0\n",
    "    \n",
    "    for loop in range(100):\n",
    "        n = dividende(b,n)\n",
    "        chaine += str(n//b)\n",
    "        n = n%b\n",
    "    return chaine"
   ]
  },
  {
   "cell_type": "code",
   "execution_count": 125,
   "metadata": {},
   "outputs": [
    {
     "data": {
      "text/plain": [
       "'0.1428571428571428571428571428571428571428571428571428571428571428571428571428571428571428571428571428'"
      ]
     },
     "execution_count": 125,
     "metadata": {},
     "output_type": "execute_result"
    }
   ],
   "source": [
    "division(7)"
   ]
  }
 ],
 "metadata": {
  "kernelspec": {
   "display_name": "Python 3",
   "language": "python",
   "name": "python3"
  },
  "language_info": {
   "codemirror_mode": {
    "name": "ipython",
    "version": 3
   },
   "file_extension": ".py",
   "mimetype": "text/x-python",
   "name": "python",
   "nbconvert_exporter": "python",
   "pygments_lexer": "ipython3",
   "version": "3.5.3"
  }
 },
 "nbformat": 4,
 "nbformat_minor": 2
}
