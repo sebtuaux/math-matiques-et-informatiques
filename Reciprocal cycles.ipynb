{
 "cells": [
  {
   "cell_type": "markdown",
   "metadata": {},
   "source": [
    "# lien utile pour résoudre le problème :\n",
    "https://fr.wikipedia.org/wiki/D%C3%A9veloppement_d%C3%A9cimal_p%C3%A9riodique\n",
    "\n",
    "https://fr.wikipedia.org/wiki/Indicatrice_d%27Euler\n",
    "\n",
    "https://fr.wikipedia.org/wiki/Nombres_premiers_entre_eux"
   ]
  },
  {
   "cell_type": "code",
   "execution_count": 263,
   "metadata": {
    "collapsed": true
   },
   "outputs": [],
   "source": [
    "from math import*"
   ]
  },
  {
   "cell_type": "code",
   "execution_count": 264,
   "metadata": {
    "collapsed": true
   },
   "outputs": [],
   "source": [
    "def est_copremier(a,b):\n",
    "    ''' int * int -> bool\n",
    "    retourne \"True\" ssi \"a\" et \"b\" sont \"premiers entre eux\" '''\n",
    "    \n",
    "    for d in range(2,b+1):\n",
    "        if a%d == 0 and b%d==0:\n",
    "            return False\n",
    "    return True"
   ]
  },
  {
   "cell_type": "code",
   "execution_count": 265,
   "metadata": {
    "collapsed": true
   },
   "outputs": [],
   "source": [
    "def phi_euler(n):\n",
    "    ''' int -> int\n",
    "    retourne l'indicatrice d'Euler, c'est-à-dire le nombre d'élément \n",
    "    de l'ensemble des nombres qui sont \"co-premiers\" avec \"n\" '''\n",
    "    \n",
    "    phi = 0\n",
    "    for k in range(1,n+1):\n",
    "        if est_copremier(k,n):\n",
    "            phi += 1\n",
    "    return phi"
   ]
  },
  {
   "cell_type": "code",
   "execution_count": 266,
   "metadata": {
    "collapsed": true
   },
   "outputs": [],
   "source": [
    "def puissance_10(n):\n",
    "    ''' int -> int\n",
    "    hyp : n<=1000\n",
    "    retourne \"10\" élevé à la puissance \"n\" '''\n",
    "    \n",
    "    if n>0:\n",
    "        return 10*puissance_10(n-1)\n",
    "    return 1"
   ]
  },
  {
   "cell_type": "code",
   "execution_count": 267,
   "metadata": {},
   "outputs": [],
   "source": [
    "def p_n(a,b):\n",
    "    ''' int * int -> int\n",
    "    On s'intérésse ici à la division euclidienne de \"a\" par \"b\"\n",
    "    hypothèse départ : a < b , b !=0 et a!=0\n",
    "    retourne la puissance \"n\" par lequel il faut multiplier \"a\" pour que a^n >= b'''\n",
    "    \n",
    "    if a < b:\n",
    "        return int(log10(b/a)) + 1\n",
    "    return 0"
   ]
  },
  {
   "cell_type": "code",
   "execution_count": 269,
   "metadata": {},
   "outputs": [
    {
     "data": {
      "text/plain": [
       "0"
      ]
     },
     "execution_count": 269,
     "metadata": {},
     "output_type": "execute_result"
    }
   ],
   "source": [
    "p_n(988,89)"
   ]
  },
  {
   "cell_type": "code",
   "execution_count": 282,
   "metadata": {},
   "outputs": [],
   "source": [
    "def division(a,b,n):\n",
    "    ''' int * int * int -> str\n",
    "    retourne le \"développement décimal\" du résultat de la division de \"a\" par \"b\" sous la forme\n",
    "    d'une chaîne de caractère'''\n",
    "    \n",
    "    chaine = ''\n",
    "    chaine += str(a//b)\n",
    "    \n",
    "    for loop in range(n):\n",
    "        if 0 < a < b :\n",
    "            a *= puissance_10(p_n(a,b))\n",
    "        chaine += str(a//b)\n",
    "        a = a % b\n",
    "    return chaine"
   ]
  },
  {
   "cell_type": "code",
   "execution_count": 237,
   "metadata": {},
   "outputs": [
    {
     "data": {
      "text/plain": [
       "Decimal('0.0112359550561797749690384762288886122405529022216796875')"
      ]
     },
     "execution_count": 237,
     "metadata": {},
     "output_type": "execute_result"
    }
   ],
   "source": [
    "from decimal import Decimal\n",
    "Decimal(1/89)"
   ]
  }
 ],
 "metadata": {
  "kernelspec": {
   "display_name": "Python 3",
   "language": "python",
   "name": "python3"
  },
  "language_info": {
   "codemirror_mode": {
    "name": "ipython",
    "version": 3
   },
   "file_extension": ".py",
   "mimetype": "text/x-python",
   "name": "python",
   "nbconvert_exporter": "python",
   "pygments_lexer": "ipython3",
   "version": "3.6.2"
  }
 },
 "nbformat": 4,
 "nbformat_minor": 2
}
