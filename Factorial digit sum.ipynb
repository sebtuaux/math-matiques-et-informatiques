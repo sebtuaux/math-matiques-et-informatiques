{
 "cells": [
  {
   "cell_type": "code",
   "execution_count": 1,
   "metadata": {},
   "outputs": [],
   "source": [
    "def factorielle(n):\n",
    "    ''' int -> int\n",
    "    retourne factorielle de \"n\" '''\n",
    "    \n",
    "    if n>0:\n",
    "        return n * factorielle(n-1)\n",
    "    return 1"
   ]
  },
  {
   "cell_type": "code",
   "execution_count": 3,
   "metadata": {},
   "outputs": [],
   "source": [
    "def s_chiffre(n):\n",
    "       ''' int -> int\n",
    "\n",
    "       retourne la somme des chiffres d'un nombre'''\n",
    "\n",
    "       if(n==0):\n",
    "\n",
    "           return 0\n",
    "\n",
    "       return(s_chiffre(n//10) + n%10)"
   ]
  },
  {
   "cell_type": "code",
   "execution_count": 6,
   "metadata": {},
   "outputs": [
    {
     "data": {
      "text/plain": [
       "648"
      ]
     },
     "execution_count": 6,
     "metadata": {},
     "output_type": "execute_result"
    }
   ],
   "source": [
    "s_chiffre(factorielle(100))"
   ]
  }
 ],
 "metadata": {
  "kernelspec": {
   "display_name": "Python 3",
   "language": "python",
   "name": "python3"
  },
  "language_info": {
   "codemirror_mode": {
    "name": "ipython",
    "version": 3
   },
   "file_extension": ".py",
   "mimetype": "text/x-python",
   "name": "python",
   "nbconvert_exporter": "python",
   "pygments_lexer": "ipython3",
   "version": "3.7.3"
  }
 },
 "nbformat": 4,
 "nbformat_minor": 2
}
