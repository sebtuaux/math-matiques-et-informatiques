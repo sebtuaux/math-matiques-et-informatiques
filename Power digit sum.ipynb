{
 "cells": [
  {
   "cell_type": "code",
   "execution_count": 1,
   "metadata": {},
   "outputs": [],
   "source": [
    "def s_chiffre(n):\n",
    "       ''' int -> int\n",
    "\n",
    "       retourne la somme des chiffres d'un nombre'''\n",
    "\n",
    "       if(n==0):\n",
    "\n",
    "           return 0\n",
    "\n",
    "       return(s_chiffre(n//10) + n%10)"
   ]
  },
  {
   "cell_type": "code",
   "execution_count": 2,
   "metadata": {},
   "outputs": [],
   "source": [
    "def p_2(n):\n",
    "    '''int -> int\n",
    "    retourne \"2\" à  la puissance \"n\" '''\n",
    "    if n>0:\n",
    "        return 2 * p_2(n-1)\n",
    "    return 1"
   ]
  },
  {
   "cell_type": "code",
   "execution_count": 21,
   "metadata": {},
   "outputs": [],
   "source": [
    "def s_p_2(n):\n",
    "    '''int -> int\n",
    "    retourne la somme des chiffre de 2 puissance n'''\n",
    "    \n",
    "    return s_chiffre(p_2(n))\n",
    "    "
   ]
  },
  {
   "cell_type": "code",
   "execution_count": 22,
   "metadata": {},
   "outputs": [
    {
     "name": "stdout",
     "output_type": "stream",
     "text": [
      "1366\n"
     ]
    }
   ],
   "source": [
    "print( s_p_2(1000) )"
   ]
  }
 ],
 "metadata": {
  "kernelspec": {
   "display_name": "Python 3",
   "language": "python",
   "name": "python3"
  },
  "language_info": {
   "codemirror_mode": {
    "name": "ipython",
    "version": 3
   },
   "file_extension": ".py",
   "mimetype": "text/x-python",
   "name": "python",
   "nbconvert_exporter": "python",
   "pygments_lexer": "ipython3",
   "version": "3.7.3"
  }
 },
 "nbformat": 4,
 "nbformat_minor": 2
}
