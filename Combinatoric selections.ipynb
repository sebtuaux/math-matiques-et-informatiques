{
 "cells": [
  {
   "cell_type": "code",
   "execution_count": 1,
   "metadata": {
    "collapsed": true
   },
   "outputs": [],
   "source": [
    "#Ecrire un algorithme puis un programme permettant de calculer la factorielle d'un nombre \"n\" saisi par l'utilisateur.\n",
    "#On pourra créer une fonction nommée factorielle(n) qui renvoie le résultat du calcul de la factorielle de n.\n",
    "\n",
    "def factorielle(n):\n",
    "    ''' int -> int\n",
    "    retourne le résultat du calcul de la factorielle de \"n\"\n",
    "    hyp : n>=0'''\n",
    "    \n",
    "    if n>=1:\n",
    "        return n*factorielle(n-1)\n",
    "    return 1\n",
    "\n",
    "#Ecrire un programme permettant de calculer le nombre de combinaisons possibles de p parmi n.\n",
    "\n",
    "def combinaison(p,n):\n",
    "    '''int * int -> int\n",
    "    retourne le nombre de combinaisons de \"p\" parmi \"n\" \n",
    "    hyp : 0 <= p <= n '''\n",
    "    \n",
    "    if 0 < p < n:\n",
    "        return  int( factorielle(n) / factorielle(p) / factorielle(n-p) )\n",
    "    return 1"
   ]
  },
  {
   "cell_type": "code",
   "execution_count": 8,
   "metadata": {
    "collapsed": true
   },
   "outputs": [],
   "source": [
    "# Affichons toutes les combinaisons possibles de \"p\" parmi \"n\" avec 1 <= p <= n et 1 <= n <= N.\n",
    "\n",
    "def C10(N):\n",
    "    ''' int -> LISTE[int]\n",
    "    retourne toutes les combinaisons possibles de \"p\" parmi \"n\" avec 1 <= p <= n '''\n",
    "    \n",
    "    Max = 1000000\n",
    "    compteur = 0\n",
    "    for n in range(1,N+1):\n",
    "        for p in range(1,N+1):\n",
    "            if combinaison(p,n) > Max:\n",
    "                compteur+=1\n",
    "    return compteur"
   ]
  },
  {
   "cell_type": "code",
   "execution_count": 9,
   "metadata": {},
   "outputs": [
    {
     "name": "stdout",
     "output_type": "stream",
     "text": [
      "4075\n"
     ]
    }
   ],
   "source": [
    "print(C10(100))"
   ]
  }
 ],
 "metadata": {
  "kernelspec": {
   "display_name": "Python 3",
   "language": "python",
   "name": "python3"
  },
  "language_info": {
   "codemirror_mode": {
    "name": "ipython",
    "version": 3
   },
   "file_extension": ".py",
   "mimetype": "text/x-python",
   "name": "python",
   "nbconvert_exporter": "python",
   "pygments_lexer": "ipython3",
   "version": "3.6.2"
  }
 },
 "nbformat": 4,
 "nbformat_minor": 2
}
